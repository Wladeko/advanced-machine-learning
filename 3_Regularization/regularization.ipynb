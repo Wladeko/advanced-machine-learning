{
 "cells": [
  {
   "cell_type": "code",
   "execution_count": 2,
   "metadata": {},
   "outputs": [],
   "source": [
    "import glmnet_python\n",
    "from glmnet import glmnet\n",
    "import numpy as np\n"
   ]
  },
  {
   "attachments": {},
   "cell_type": "markdown",
   "metadata": {},
   "source": [
    "### Generating data"
   ]
  },
  {
   "cell_type": "code",
   "execution_count": 69,
   "metadata": {},
   "outputs": [],
   "source": [
    "def generate_data(n):\n",
    "    _1 = [1 for i in range(10)]\n",
    "    _2 = [0 for i in range(10)]\n",
    "    beta = np.array(_1 + _2).reshape((20,1))\n",
    "\n",
    "    X = np.array([np.random.normal(loc=0, scale=1, size=20) for i in range(n)])\n",
    "    p = 1/(1+np.exp(-(X @ beta)))\n",
    "    y = np.random.binomial(n=1, p=p).flatten().astype('float64')\n",
    "\n",
    "\n",
    "    return X, y"
   ]
  },
  {
   "cell_type": "code",
   "execution_count": 70,
   "metadata": {},
   "outputs": [],
   "source": [
    "n = 100\n",
    "X, y = generate_data(n)"
   ]
  },
  {
   "cell_type": "code",
   "execution_count": 71,
   "metadata": {},
   "outputs": [
    {
     "ename": "ValueError",
     "evalue": "loadGlmlib does not currently work for windows",
     "output_type": "error",
     "traceback": [
      "\u001b[1;31m---------------------------------------------------------------------------\u001b[0m",
      "\u001b[1;31mValueError\u001b[0m                                Traceback (most recent call last)",
      "Cell \u001b[1;32mIn[71], line 1\u001b[0m\n\u001b[1;32m----> 1\u001b[0m model \u001b[39m=\u001b[39m glmnet(x\u001b[39m=\u001b[39;49mX, y\u001b[39m=\u001b[39;49my, family\u001b[39m=\u001b[39;49m\u001b[39m\"\u001b[39;49m\u001b[39mbinomial\u001b[39;49m\u001b[39m\"\u001b[39;49m, alpha\u001b[39m=\u001b[39;49m\u001b[39m1\u001b[39;49m)\n",
      "File \u001b[1;32mc:\\Users\\WOlejnik\\anaconda3\\envs\\aml\\lib\\site-packages\\glmnet_python\\glmnet.py:453\u001b[0m, in \u001b[0;36mglmnet\u001b[1;34m(x, y, family, **options)\u001b[0m\n\u001b[0;32m    448\u001b[0m     fit \u001b[39m=\u001b[39m elnet(x, is_sparse, irs, pcs, y, weights, offset, gtype, parm, \n\u001b[0;32m    449\u001b[0m                 lempty, nvars, jd, vp, cl, ne, nx, nlam, flmin, ulam, \n\u001b[0;32m    450\u001b[0m                 thresh, isd, intr, maxit, family)\n\u001b[0;32m    451\u001b[0m \u001b[39melif\u001b[39;00m (family \u001b[39m==\u001b[39m \u001b[39m'\u001b[39m\u001b[39mbinomial\u001b[39m\u001b[39m'\u001b[39m) \u001b[39mor\u001b[39;00m (family \u001b[39m==\u001b[39m \u001b[39m'\u001b[39m\u001b[39mmultinomial\u001b[39m\u001b[39m'\u001b[39m):\n\u001b[0;32m    452\u001b[0m     \u001b[39m# call lognet\u001b[39;00m\n\u001b[1;32m--> 453\u001b[0m     fit \u001b[39m=\u001b[39m lognet(x, is_sparse, irs, pcs, y, weights, offset, parm,\n\u001b[0;32m    454\u001b[0m                  nobs, nvars, jd, vp, cl, ne, nx, nlam, flmin, ulam,\n\u001b[0;32m    455\u001b[0m                  thresh, isd, intr, maxit, kopt, family)\n\u001b[0;32m    456\u001b[0m \u001b[39melif\u001b[39;00m family \u001b[39m==\u001b[39m \u001b[39m'\u001b[39m\u001b[39mcox\u001b[39m\u001b[39m'\u001b[39m:\n\u001b[0;32m    457\u001b[0m     \u001b[39m# call coxnet\u001b[39;00m\n\u001b[0;32m    458\u001b[0m     fit \u001b[39m=\u001b[39m coxnet(x, is_sparse, irs, pcs, y, weights, offset, parm,\n\u001b[0;32m    459\u001b[0m                  nobs, nvars, jd, vp, cl, ne, nx, nlam, flmin, ulam,\n\u001b[0;32m    460\u001b[0m                  thresh, isd, maxit, family)\n",
      "File \u001b[1;32mc:\\Users\\WOlejnik\\anaconda3\\envs\\aml\\lib\\site-packages\\glmnet_python\\lognet.py:16\u001b[0m, in \u001b[0;36mlognet\u001b[1;34m(x, is_sparse, irs, pcs, y, weights, offset, parm, nobs, nvars, jd, vp, cl, ne, nx, nlam, flmin, ulam, thresh, isd, intr, maxit, kopt, family)\u001b[0m\n\u001b[0;32m     11\u001b[0m \u001b[39mdef\u001b[39;00m \u001b[39mlognet\u001b[39m(x, is_sparse, irs, pcs, y, weights, offset, parm, \n\u001b[0;32m     12\u001b[0m           nobs, nvars, jd, vp, cl, ne, nx, nlam, flmin, ulam, \n\u001b[0;32m     13\u001b[0m           thresh, isd, intr, maxit, kopt, family):\n\u001b[0;32m     14\u001b[0m \n\u001b[0;32m     15\u001b[0m     \u001b[39m# load shared fortran library\u001b[39;00m\n\u001b[1;32m---> 16\u001b[0m     glmlib \u001b[39m=\u001b[39m loadGlmLib() \n\u001b[0;32m     18\u001b[0m     \u001b[39m# \u001b[39;00m\n\u001b[0;32m     19\u001b[0m     noo \u001b[39m=\u001b[39m y\u001b[39m.\u001b[39mshape[\u001b[39m0\u001b[39m]\n",
      "File \u001b[1;32mc:\\Users\\WOlejnik\\anaconda3\\envs\\aml\\lib\\site-packages\\glmnet_python\\loadGlmLib.py:28\u001b[0m, in \u001b[0;36mloadGlmLib\u001b[1;34m()\u001b[0m\n\u001b[0;32m     25\u001b[0m     \u001b[39mreturn\u001b[39;00m(glmlib)\n\u001b[0;32m     26\u001b[0m \u001b[39melif\u001b[39;00m os\u001b[39m.\u001b[39mname \u001b[39m==\u001b[39m \u001b[39m'\u001b[39m\u001b[39mnt\u001b[39m\u001b[39m'\u001b[39m:\n\u001b[0;32m     27\u001b[0m     \u001b[39m# this does not currently work\u001b[39;00m\n\u001b[1;32m---> 28\u001b[0m     \u001b[39mraise\u001b[39;00m \u001b[39mValueError\u001b[39;00m(\u001b[39m'\u001b[39m\u001b[39mloadGlmlib does not currently work for windows\u001b[39m\u001b[39m'\u001b[39m)\n\u001b[0;32m     29\u001b[0m     \u001b[39m# glmlib = ctypes.windll.LoadLibrary(glmnet_dll)\u001b[39;00m\n\u001b[0;32m     30\u001b[0m \u001b[39melse\u001b[39;00m:\n\u001b[0;32m     31\u001b[0m     \u001b[39mraise\u001b[39;00m \u001b[39mValueError\u001b[39;00m(\u001b[39m'\u001b[39m\u001b[39mloadGlmLib not yet implemented for non-posix OS\u001b[39m\u001b[39m'\u001b[39m)\n",
      "\u001b[1;31mValueError\u001b[0m: loadGlmlib does not currently work for windows"
     ]
    }
   ],
   "source": [
    "model = glmnet(x=X, y=y, family=\"binomial\", alpha=1)"
   ]
  },
  {
   "cell_type": "code",
   "execution_count": null,
   "metadata": {},
   "outputs": [],
   "source": []
  }
 ],
 "metadata": {
  "kernelspec": {
   "display_name": "aml",
   "language": "python",
   "name": "python3"
  },
  "language_info": {
   "codemirror_mode": {
    "name": "ipython",
    "version": 3
   },
   "file_extension": ".py",
   "mimetype": "text/x-python",
   "name": "python",
   "nbconvert_exporter": "python",
   "pygments_lexer": "ipython3",
   "version": "3.9.16"
  },
  "orig_nbformat": 4
 },
 "nbformat": 4,
 "nbformat_minor": 2
}
