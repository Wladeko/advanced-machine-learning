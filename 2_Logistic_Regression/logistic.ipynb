{
 "cells": [
  {
   "cell_type": "code",
   "execution_count": 163,
   "metadata": {},
   "outputs": [],
   "source": [
    "def warn(*args, **kwargs):\n",
    "    pass\n",
    "import warnings\n",
    "warnings.warn = warn\n",
    "\n",
    "from sklearn.linear_model import LogisticRegression\n",
    "import pandas as pd\n",
    "import numpy as np\n",
    "import statsmodels.api as sm\n",
    "from scipy.stats import norm\n",
    "from scipy import stats\n",
    "import seaborn as sns"
   ]
  },
  {
   "attachments": {},
   "cell_type": "markdown",
   "metadata": {},
   "source": [
    "# Task 1"
   ]
  },
  {
   "cell_type": "code",
   "execution_count": 164,
   "metadata": {},
   "outputs": [
    {
     "data": {
      "text/html": [
       "<div>\n",
       "<style scoped>\n",
       "    .dataframe tbody tr th:only-of-type {\n",
       "        vertical-align: middle;\n",
       "    }\n",
       "\n",
       "    .dataframe tbody tr th {\n",
       "        vertical-align: top;\n",
       "    }\n",
       "\n",
       "    .dataframe thead th {\n",
       "        text-align: right;\n",
       "    }\n",
       "</style>\n",
       "<table border=\"1\" class=\"dataframe\">\n",
       "  <thead>\n",
       "    <tr style=\"text-align: right;\">\n",
       "      <th></th>\n",
       "      <th>sbp</th>\n",
       "      <th>tobacco</th>\n",
       "      <th>ldl</th>\n",
       "      <th>adiposity</th>\n",
       "      <th>famhist</th>\n",
       "      <th>typea</th>\n",
       "      <th>obesity</th>\n",
       "      <th>alcohol</th>\n",
       "      <th>age</th>\n",
       "      <th>chd</th>\n",
       "    </tr>\n",
       "    <tr>\n",
       "      <th>row.names</th>\n",
       "      <th></th>\n",
       "      <th></th>\n",
       "      <th></th>\n",
       "      <th></th>\n",
       "      <th></th>\n",
       "      <th></th>\n",
       "      <th></th>\n",
       "      <th></th>\n",
       "      <th></th>\n",
       "      <th></th>\n",
       "    </tr>\n",
       "  </thead>\n",
       "  <tbody>\n",
       "    <tr>\n",
       "      <th>1</th>\n",
       "      <td>160</td>\n",
       "      <td>12.00</td>\n",
       "      <td>5.73</td>\n",
       "      <td>23.11</td>\n",
       "      <td>1</td>\n",
       "      <td>49</td>\n",
       "      <td>25.30</td>\n",
       "      <td>97.20</td>\n",
       "      <td>52</td>\n",
       "      <td>1</td>\n",
       "    </tr>\n",
       "    <tr>\n",
       "      <th>2</th>\n",
       "      <td>144</td>\n",
       "      <td>0.01</td>\n",
       "      <td>4.41</td>\n",
       "      <td>28.61</td>\n",
       "      <td>0</td>\n",
       "      <td>55</td>\n",
       "      <td>28.87</td>\n",
       "      <td>2.06</td>\n",
       "      <td>63</td>\n",
       "      <td>1</td>\n",
       "    </tr>\n",
       "    <tr>\n",
       "      <th>3</th>\n",
       "      <td>118</td>\n",
       "      <td>0.08</td>\n",
       "      <td>3.48</td>\n",
       "      <td>32.28</td>\n",
       "      <td>1</td>\n",
       "      <td>52</td>\n",
       "      <td>29.14</td>\n",
       "      <td>3.81</td>\n",
       "      <td>46</td>\n",
       "      <td>0</td>\n",
       "    </tr>\n",
       "    <tr>\n",
       "      <th>4</th>\n",
       "      <td>170</td>\n",
       "      <td>7.50</td>\n",
       "      <td>6.41</td>\n",
       "      <td>38.03</td>\n",
       "      <td>1</td>\n",
       "      <td>51</td>\n",
       "      <td>31.99</td>\n",
       "      <td>24.26</td>\n",
       "      <td>58</td>\n",
       "      <td>1</td>\n",
       "    </tr>\n",
       "    <tr>\n",
       "      <th>5</th>\n",
       "      <td>134</td>\n",
       "      <td>13.60</td>\n",
       "      <td>3.50</td>\n",
       "      <td>27.78</td>\n",
       "      <td>1</td>\n",
       "      <td>60</td>\n",
       "      <td>25.99</td>\n",
       "      <td>57.34</td>\n",
       "      <td>49</td>\n",
       "      <td>1</td>\n",
       "    </tr>\n",
       "  </tbody>\n",
       "</table>\n",
       "</div>"
      ],
      "text/plain": [
       "           sbp  tobacco   ldl  adiposity famhist  typea  obesity  alcohol  \\\n",
       "row.names                                                                   \n",
       "1          160    12.00  5.73      23.11       1     49    25.30    97.20   \n",
       "2          144     0.01  4.41      28.61       0     55    28.87     2.06   \n",
       "3          118     0.08  3.48      32.28       1     52    29.14     3.81   \n",
       "4          170     7.50  6.41      38.03       1     51    31.99    24.26   \n",
       "5          134    13.60  3.50      27.78       1     60    25.99    57.34   \n",
       "\n",
       "           age  chd  \n",
       "row.names            \n",
       "1           52    1  \n",
       "2           63    1  \n",
       "3           46    0  \n",
       "4           58    1  \n",
       "5           49    1  "
      ]
     },
     "execution_count": 164,
     "metadata": {},
     "output_type": "execute_result"
    }
   ],
   "source": [
    "# loading data\n",
    "df = pd.read_csv(\"data\\\\SAheart.data\").set_index(\"row.names\")\n",
    "\n",
    "# string features encoding\n",
    "df.loc[df[\"famhist\"]==\"Present\", [\"famhist\"]] = 1\n",
    "df.loc[df[\"famhist\"]==\"Absent\", [\"famhist\"]] = 0\n",
    "\n",
    "df.head()"
   ]
  },
  {
   "attachments": {},
   "cell_type": "markdown",
   "metadata": {},
   "source": [
    "### - I"
   ]
  },
  {
   "cell_type": "code",
   "execution_count": 165,
   "metadata": {},
   "outputs": [],
   "source": [
    "# splitting data to X and y\n",
    "X = df.iloc[:,:-1]\n",
    "y = df.iloc[:,-1]\n",
    "\n",
    "model = LogisticRegression(penalty=None, max_iter=1000).fit(X, y)"
   ]
  },
  {
   "attachments": {},
   "cell_type": "markdown",
   "metadata": {},
   "source": [
    "### - II"
   ]
  },
  {
   "cell_type": "code",
   "execution_count": 166,
   "metadata": {},
   "outputs": [
    {
     "name": "stdout",
     "output_type": "stream",
     "text": [
      "Results:\n",
      "Feature 0: Coef=0.0065, p-value=0.6238, sbp\n",
      "Feature 1: Coef=0.0793, p-value=0.0000, tobacco\n",
      "Feature 2: Coef=0.1739, p-value=0.0000, ldl\n",
      "Feature 3: Coef=0.0186, p-value=0.1622, adiposity\n",
      "Feature 4: Coef=0.9262, p-value=0.0000, famhist\n",
      "Feature 5: Coef=0.0396, p-value=0.0029, typea\n",
      "Feature 6: Coef=-0.0629, p-value=0.0000, obesity\n",
      "Feature 7: Coef=0.0001, p-value=0.9927, alcohol\n",
      "Feature 8: Coef=0.0452, p-value=0.0007, age\n",
      "\n",
      "\n",
      "SIgnificant features:\n",
      "Feature 1: Coef=0.0793, p-value=0.0000, tobacco\n",
      "Feature 2: Coef=0.1739, p-value=0.0000, ldl\n",
      "Feature 4: Coef=0.9262, p-value=0.0000, famhist\n",
      "Feature 5: Coef=0.0396, p-value=0.0029, typea\n",
      "Feature 6: Coef=-0.0629, p-value=0.0000, obesity\n",
      "Feature 8: Coef=0.0452, p-value=0.0007, age\n"
     ]
    }
   ],
   "source": [
    "# Wald's test\n",
    "sterr = np.array(model.coef_.std()/(X.shape[0]**0.5))\n",
    "sterr = sterr.reshape(1,-1)\n",
    "z_scores = model.coef_ / sterr\n",
    "p_values = (1 - norm.cdf(np.abs(z_scores))) * 2\n",
    "\n",
    "# print results\n",
    "print(\"Results:\")\n",
    "for i in range(X.shape[1]):\n",
    "    print(f\"Feature {i}: Coef={model.coef_[0][i]:.4f}, p-value={p_values[0][i]:.4f}, {model.feature_names_in_[i]}\")\n",
    "print(\"\\n\")\n",
    "\n",
    "# print significant Features\n",
    "print(\"SIgnificant features:\")\n",
    "for i in range(X.shape[1]):\n",
    "    if p_values[0][i]<0.1:\n",
    "        print(f\"Feature {i}: Coef={model.coef_[0][i]:.4f}, p-value={p_values[0][i]:.4f}, {model.feature_names_in_[i]}\")"
   ]
  },
  {
   "attachments": {},
   "cell_type": "markdown",
   "metadata": {},
   "source": [
    "### - III"
   ]
  },
  {
   "cell_type": "code",
   "execution_count": 167,
   "metadata": {},
   "outputs": [
    {
     "data": {
      "text/plain": [
       "{'sbp': 0.006520980170637254,\n",
       " 'tobacco': 0.07933269789387165,\n",
       " 'ldl': 0.17394383698974514,\n",
       " 'adiposity': 0.01858523592698129,\n",
       " 'famhist': 0.9262020599473035,\n",
       " 'typea': 0.03961007779213418,\n",
       " 'obesity': -0.06289924838408005,\n",
       " 'alcohol': 0.00012231323567697875,\n",
       " 'age': 0.045236300977123695,\n",
       " 'intercept': -6.155082231774178}"
      ]
     },
     "execution_count": 167,
     "metadata": {},
     "output_type": "execute_result"
    }
   ],
   "source": [
    "arg = np.argmax(model.feature_names_in_=='age')\n",
    "\n",
    "coef = {model.feature_names_in_[i]: model.coef_[0][i] for i in range(len(model.feature_names_in_))}\n",
    "coef[\"intercept\"] = model.intercept_[0]\n",
    "\n",
    "coef\n"
   ]
  },
  {
   "attachments": {},
   "cell_type": "markdown",
   "metadata": {},
   "source": [
    "Coefficient coressponding to variable age can be interpreted as"
   ]
  },
  {
   "attachments": {},
   "cell_type": "markdown",
   "metadata": {},
   "source": [
    "### - IV"
   ]
  },
  {
   "cell_type": "code",
   "execution_count": 168,
   "metadata": {},
   "outputs": [
    {
     "name": "stdout",
     "output_type": "stream",
     "text": [
      "For the first patient predicted probability of the heart attack is 71.22%\n"
     ]
    }
   ],
   "source": [
    "first_patient = np.array(X.loc[1,:]).reshape(1,-1)\n",
    "proba = model.predict_proba(first_patient)\n",
    "print(f\"For the first patient predicted probability of the heart attack is {proba[0,1]*10000//1/100}%\")"
   ]
  },
  {
   "attachments": {},
   "cell_type": "markdown",
   "metadata": {},
   "source": [
    "# Task 2"
   ]
  },
  {
   "cell_type": "code",
   "execution_count": 169,
   "metadata": {},
   "outputs": [
    {
     "data": {
      "text/html": [
       "<div>\n",
       "<style scoped>\n",
       "    .dataframe tbody tr th:only-of-type {\n",
       "        vertical-align: middle;\n",
       "    }\n",
       "\n",
       "    .dataframe tbody tr th {\n",
       "        vertical-align: top;\n",
       "    }\n",
       "\n",
       "    .dataframe thead th {\n",
       "        text-align: right;\n",
       "    }\n",
       "</style>\n",
       "<table border=\"1\" class=\"dataframe\">\n",
       "  <thead>\n",
       "    <tr style=\"text-align: right;\">\n",
       "      <th></th>\n",
       "      <th>popn</th>\n",
       "      <th>body</th>\n",
       "      <th>surface</th>\n",
       "    </tr>\n",
       "  </thead>\n",
       "  <tbody>\n",
       "    <tr>\n",
       "      <th>0</th>\n",
       "      <td>equake</td>\n",
       "      <td>5.60</td>\n",
       "      <td>4.25</td>\n",
       "    </tr>\n",
       "    <tr>\n",
       "      <th>1</th>\n",
       "      <td>equake</td>\n",
       "      <td>5.18</td>\n",
       "      <td>3.93</td>\n",
       "    </tr>\n",
       "    <tr>\n",
       "      <th>2</th>\n",
       "      <td>equake</td>\n",
       "      <td>6.31</td>\n",
       "      <td>6.30</td>\n",
       "    </tr>\n",
       "    <tr>\n",
       "      <th>3</th>\n",
       "      <td>equake</td>\n",
       "      <td>5.36</td>\n",
       "      <td>4.49</td>\n",
       "    </tr>\n",
       "    <tr>\n",
       "      <th>4</th>\n",
       "      <td>equake</td>\n",
       "      <td>5.96</td>\n",
       "      <td>6.39</td>\n",
       "    </tr>\n",
       "  </tbody>\n",
       "</table>\n",
       "</div>"
      ],
      "text/plain": [
       "     popn  body  surface\n",
       "0  equake  5.60     4.25\n",
       "1  equake  5.18     3.93\n",
       "2  equake  6.31     6.30\n",
       "3  equake  5.36     4.49\n",
       "4  equake  5.96     6.39"
      ]
     },
     "execution_count": 169,
     "metadata": {},
     "output_type": "execute_result"
    }
   ],
   "source": [
    "df = pd.read_csv(\"data\\\\earthquake.txt\", sep=' ', decimal=\".\")\n",
    "df.head()"
   ]
  },
  {
   "attachments": {},
   "cell_type": "markdown",
   "metadata": {},
   "source": [
    "### - I"
   ]
  },
  {
   "cell_type": "code",
   "execution_count": 170,
   "metadata": {},
   "outputs": [
    {
     "data": {
      "text/plain": [
       "<Axes: xlabel='body', ylabel='surface'>"
      ]
     },
     "execution_count": 170,
     "metadata": {},
     "output_type": "execute_result"
    },
    {
     "data": {
      "image/png": "[encoded data removed]",
      "text/plain": [
       "<Figure size 640x480 with 1 Axes>"
      ]
     },
     "metadata": {},
     "output_type": "display_data"
    }
   ],
   "source": [
    "sns.set_style(\"whitegrid\")\n",
    "sns.set_context(\"notebook\")\n",
    "sns.scatterplot(data=df, x=\"body\", y=\"surface\", hue=\"popn\")"
   ]
  },
  {
   "attachments": {},
   "cell_type": "markdown",
   "metadata": {},
   "source": [
    "### - II"
   ]
  },
  {
   "cell_type": "code",
   "execution_count": 171,
   "metadata": {},
   "outputs": [
    {
     "name": "stdout",
     "output_type": "stream",
     "text": [
      "Results:\n",
      "Feature 0: Coef=146.4089, p-value=0.0000, body\n",
      "Feature 1: Coef=-151.8120, p-value=0.0000, surface\n",
      "\n",
      "\n",
      "SIgnificant features:\n",
      "Feature 0: Coef=146.4089, p-value=0.0000, body\n",
      "Feature 1: Coef=-151.8120, p-value=0.0000, surface\n"
     ]
    }
   ],
   "source": [
    "X, y = df.iloc[:,1:], df.iloc[:,0]\n",
    "\n",
    "model = LogisticRegression(penalty=None, max_iter=1000, random_state=11)\n",
    "model.fit(X, y)\n",
    "\n",
    "# Wald's test\n",
    "sterr = np.array(X.std()/(X.shape[0]**0.5))\n",
    "sterr = sterr.reshape(1,-1)\n",
    "z_scores = model.coef_ / sterr\n",
    "p_values = (1 - norm.cdf(np.abs(z_scores))) * 2\n",
    "\n",
    "n = X.shape[0]\n",
    "p = X.shape[1]\n",
    "X_with_intercept = np.hstack([np.ones((n, 1)), X])\n",
    "var_cov = np.linalg.inv(np.dot(X_with_intercept.T, X_with_intercept))\n",
    "coef_var = var_cov.diagonal()[1:]\n",
    "wald_stats = model.coef_[0] / np.sqrt(coef_var)\n",
    "p_values = 2 * (1 - stats.norm.cdf(np.abs(wald_stats)))\n",
    "\n",
    "# print results\n",
    "print(\"Results:\")\n",
    "for i in range(p):\n",
    "    print(f\"Feature {i}: Coef={model.coef_[0][i]:.4f}, p-value={p_values[i]:.4f}, {model.feature_names_in_[i]}\")\n",
    "print(\"\\n\")\n",
    "\n",
    "# print significant Features\n",
    "print(\"SIgnificant features:\")\n",
    "for i in range(p):\n",
    "    if p_values[i]<0.1:\n",
    "        print(f\"Feature {i}: Coef={model.coef_[0][i]:.4f}, p-value={p_values[i]:.4f}, {model.feature_names_in_[i]}\")"
   ]
  },
  {
   "cell_type": "code",
   "execution_count": 172,
   "metadata": {},
   "outputs": [
    {
     "data": {
      "text/plain": [
       "array([[ 1632.22026389, -1259.44301006]])"
      ]
     },
     "execution_count": 172,
     "metadata": {},
     "output_type": "execute_result"
    }
   ],
   "source": [
    "z_scores"
   ]
  },
  {
   "cell_type": "code",
   "execution_count": null,
   "metadata": {},
   "outputs": [],
   "source": []
  }
 ],
 "metadata": {
  "kernelspec": {
   "display_name": "aml",
   "language": "python",
   "name": "python3"
  },
  "language_info": {
   "codemirror_mode": {
    "name": "ipython",
    "version": 3
   },
   "file_extension": ".py",
   "mimetype": "text/x-python",
   "name": "python",
   "nbconvert_exporter": "python",
   "pygments_lexer": "ipython3",
   "version": "3.9.16"
  },
  "orig_nbformat": 4
 },
 "nbformat": 4,
 "nbformat_minor": 2
}
